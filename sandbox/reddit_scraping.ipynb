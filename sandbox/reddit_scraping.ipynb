{
 "cells": [
  {
   "cell_type": "code",
   "execution_count": null,
   "metadata": {},
   "outputs": [],
   "source": [
    "### Extract a PRAW post and visualize it using indents. ###\n",
    "\n",
    "import os\n",
    "import praw\n",
    "\n",
    "# Define the subreddit\n",
    "subreddit_name = 'news'\n",
    "\n",
    "# Setup PRAW credentials\n",
    "reddit = praw.Reddit(\n",
    "    client_id=os.getenv(\"PRAW_CLIENT_ID\"),\n",
    "    client_secret=os.getenv(\"PRAW_CLIENT_SECRET\"),\n",
    "    user_agent=os.getenv(\"PRAW_USER_AGENT\"),\n",
    ")\n",
    "\n",
    "def visualize_post(comments, depth=1, max_depth=3):\n",
    "    if depth > max_depth:\n",
    "        return\n",
    "    indent = '    ' * depth  # Increase indentation for each depth level\n",
    "    for comment in comments:\n",
    "        if isinstance(comment, praw.models.MoreComments):\n",
    "            continue\n",
    "        print(f\"{indent}{comment.score} upvotes: {comment.body[:100].replace(\"\\n\", \"\")}\")  # Truncate long comments\n",
    "        visualize_post(comment.replies, depth + 1, max_depth)\n",
    "\n",
    "# Get the top post from a subreddit\n",
    "subreddit = reddit.subreddit(subreddit_name)\n",
    "top_post = next(subreddit.top(time_filter='day', limit=1))\n",
    "\n",
    "top_post.comments.replace_more(limit=0)  # Load all comments\n",
    "print(f\"{top_post.score} upvotes: {top_post.title}\\n{top_post.selftext}\")\n",
    "visualize_post(top_post.comments)\n"
   ]
  },
  {
   "cell_type": "code",
   "execution_count": 62,
   "metadata": {},
   "outputs": [
    {
     "name": "stderr",
     "output_type": "stream",
     "text": [
      "C:\\Users\\alowe\\AppData\\Local\\Temp\\ipykernel_32572\\3986830767.py:54: DeprecationWarning: Positional arguments for 'BaseListingMixin.top' will no longer be supported in PRAW 8.\n",
      "Call this function with 'time_filter' as a keyword argument.\n",
      "  for index, submission in enumerate(subreddit.top('day', limit=limit_posts)):\n"
     ]
    },
    {
     "name": "stdout",
     "output_type": "stream",
     "text": [
      "Data saved successfully to BSON files.\n"
     ]
    }
   ],
   "source": [
    "### Extract top posts from a specific subreddit and save as BSON files, while limiting tree depth and width. ###\n",
    "\n",
    "import os\n",
    "import praw\n",
    "import bson\n",
    "\n",
    "# Configure PRAW credentials\n",
    "reddit = praw.Reddit(\n",
    "    client_id=os.getenv(\"PRAW_CLIENT_ID\"),\n",
    "    client_secret=os.getenv(\"PRAW_CLIENT_SECRET\"),\n",
    "    user_agent=os.getenv(\"PRAW_USER_AGENT\"),\n",
    ")\n",
    "\n",
    "# Define the subreddit\n",
    "subreddit_name = 'all'\n",
    "\n",
    "# Create dir to save bson files\n",
    "directory = f\"./{subreddit_name}\"\n",
    "if not os.path.exists(directory):\n",
    "    os.makedirs(directory)\n",
    "\n",
    "# Define limit for the number of posts\n",
    "limit_posts = 10\n",
    "\n",
    "subreddit = reddit.subreddit(subreddit_name)\n",
    "\n",
    "def fetch_comments(submission, max_depth=3, max_top_level_comments=10, max_replies_per_comment=3):\n",
    "    \"\"\"Fetch comments from a submission with separate controls for depth, top-level comments, and replies.\"\"\"\n",
    "    submission.comments.replace_more(limit=0)  # Limit expansion of MoreComments\n",
    "\n",
    "    def fetch(comment_list, depth):\n",
    "        if depth > max_depth:\n",
    "            return []  # Stop recursion beyond max depth\n",
    "        local_comments = []\n",
    "        comment_limit = max_top_level_comments if depth == 1 else max_replies_per_comment\n",
    "        for comment in comment_list[:comment_limit]:  # Limit the number of comments processed at each depth\n",
    "            if isinstance(comment, praw.models.MoreComments):\n",
    "                continue  # Skip 'MoreComments' if any left\n",
    "            comment_data = {\n",
    "                'id': comment.id,\n",
    "                'author': str(comment.author),\n",
    "                'body': comment.body,\n",
    "                'created_utc': comment.created_utc,\n",
    "                'score': comment.score,\n",
    "                'replies': fetch(comment.replies, depth + 1)  # Recursive call to process replies\n",
    "            }\n",
    "            local_comments.append(comment_data)\n",
    "        return local_comments\n",
    "\n",
    "    # Start fetching comments from the top level\n",
    "    comments = fetch(submission.comments, 1)  # Start with depth 1\n",
    "    return comments\n",
    "\n",
    "for index, submission in enumerate(subreddit.top('day', limit=limit_posts)):\n",
    "    post_data = {\n",
    "        \"title\": submission.title,\n",
    "        \"text\": submission.selftext,\n",
    "        \"author\": str(submission.author),\n",
    "        \"score\": submission.score,\n",
    "        \"created_utc\": submission.created_utc,\n",
    "        \"num_comments\": submission.num_comments,\n",
    "        \"id\": submission.id,\n",
    "        \"url\": submission.url,\n",
    "        \"comments\": fetch_comments(submission)  # Fetch and store comments\n",
    "    }\n",
    "\n",
    "    # Serialize data to BSON\n",
    "    bson_data = bson.BSON.encode(post_data)\n",
    "    \n",
    "    # Save BSON data to a file\n",
    "    file_path = os.path.join(directory, f'post{index + 1}.bson')\n",
    "    with open(file_path, 'wb') as file:\n",
    "        file.write(bson_data)\n",
    "\n",
    "print(\"Data saved successfully to BSON files.\")\n"
   ]
  },
  {
   "cell_type": "code",
   "execution_count": 9,
   "metadata": {},
   "outputs": [
    {
     "name": "stdout",
     "output_type": "stream",
     "text": [
      "2024-07-05\n"
     ]
    }
   ],
   "source": [
    "import datetime\n",
    "today = datetime.date.today().isoformat()\n",
    "print(today)"
   ]
  },
  {
   "cell_type": "code",
   "execution_count": 3,
   "metadata": {},
   "outputs": [
    {
     "data": {
      "text/plain": [
       "{'remaining': None, 'reset_timestamp': None, 'used': None}"
      ]
     },
     "execution_count": 3,
     "metadata": {},
     "output_type": "execute_result"
    }
   ],
   "source": [
    "import os\n",
    "import praw\n",
    "\n",
    "# Configure PRAW credentials\n",
    "reddit = praw.Reddit(\n",
    "    client_id=os.getenv(\"PRAW_CLIENT_ID\"),\n",
    "    client_secret=os.getenv(\"PRAW_CLIENT_SECRET\"),\n",
    "    user_agent=os.getenv(\"PRAW_USER_AGENT\"),\n",
    ")\n",
    "\n",
    "reddit.auth.limits # Check current PRAW auth limits"
   ]
  },
  {
   "cell_type": "code",
   "execution_count": 63,
   "metadata": {},
   "outputs": [
    {
     "name": "stdout",
     "output_type": "stream",
     "text": [
      "Converted all/post1.bson to JSON and saved as all/post1.json\n"
     ]
    }
   ],
   "source": [
    "### BSON to JSON ###\n",
    "\n",
    "import bson\n",
    "import json\n",
    "\n",
    "# file path\n",
    "bson_file_path = 'all/post1.bson'\n",
    "json_file_path = 'all/post1.json'\n",
    "\n",
    "# Read the BSON file\n",
    "with open(bson_file_path, 'rb') as file:\n",
    "    bson_data = file.read()\n",
    "    data_dict = bson.BSON.decode(bson_data)  # Decode BSON data to dict\n",
    "\n",
    "# Write data to JSON file\n",
    "with open(json_file_path, 'w') as json_file:\n",
    "    json.dump(data_dict, json_file, indent=4)  # Serialize dictionary to JSON and save it\n",
    "\n",
    "print(f\"Converted {bson_file_path} to JSON and saved as {json_file_path}\")\n"
   ]
  },
  {
   "cell_type": "code",
   "execution_count": 65,
   "metadata": {},
   "outputs": [
    {
     "name": "stdout",
     "output_type": "stream",
     "text": [
      "{'title': \"Claudia Sheinbaum becomes Mexico's first ever female president. \", 'text': '', 'author': 'MorningStarZ99', 'score': 107851, 'created_utc': 1717416176.0, 'num_comments': 4510, 'id': '1d72q9w', 'url': 'https://i.redd.it/1s12rmk1kc4d1.jpeg', 'comments': [{'id': 'l6wdoa0', 'author': 'AutoModerator', 'body': 'It looks like this post is about Politics. Various methods of filtering out content relating to Politics can be found [here](https://www.reddit.com/r/pics/wiki/v2/resources/filter/politics).\\n\\n*I am a bot, and this action was performed automatically. Please [contact the moderators of this subreddit](/message/compose/?to=/r/pics) if you have any questions or concerns.*', 'created_utc': 1717416178.0, 'score': 1, 'replies': []}, {'id': 'l6wl0y9', 'author': 'KuntaWuKnicks', 'body': 'When I read the headline\\n\\n “Number of assassinated candidates was 37 before the vote” I triple read it and thought one the headline can’t be right and two the story can’t be right\\n\\nIt was. \\n\\nWhat in the Los pollos is going on', 'created_utc': 1717419594.0, 'score': 15249, 'replies': [{'id': 'l6wld6g', 'author': 'Ho3n3r', 'body': '![gif](giphy|unFLKoAV3TkXe)', 'created_utc': 1717419739.0, 'score': 3873, 'replies': [{'id': 'l6ws78m', 'author': 'Peepnisbiteyeowch_', 'body': \"My favorite breaking bad scene tbh. He manages to make everything so awkward, it's funny\", 'created_utc': 1717422534.0, 'score': 775, 'replies': []}, {'id': 'l6wmtgk', 'author': 'ElMykl', 'body': '![gif](giphy|9LPjXFCA3Bwgo)', 'created_utc': 1717420359.0, 'score': 964, 'replies': []}]}, {'id': 'l6wmscd', 'author': 'JohnBrown1ng', 'body': 'Not that it makes it any better but just to clarify: those weren’t presidential candidates.', 'created_utc': 1717420346.0, 'score': 348, 'replies': [{'id': 'l6x8llg', 'author': 'Kmolson', 'body': 'Yeah, people are making it sound like her rivals were getting knocked off.', 'created_utc': 1717428431.0, 'score': 128, 'replies': []}, {'id': 'l6wtv55', 'author': 'Ok_Collection1290', 'body': 'Right not like they don’t matter but much much smaller and more local', 'created_utc': 1717423170.0, 'score': 22, 'replies': []}, {'id': 'l6xgc8o', 'author': 'Sowf_Paw', 'body': \"It's good clarification but it definitely does not make it any better.\", 'created_utc': 1717431067.0, 'score': 6, 'replies': []}]}, {'id': 'l6wmnq4', 'author': 'PleasantNightLongDay', 'body': 'I hate being that guy - Mexican here - this isn’t the win Reddit is making it out to be.\\n\\nIm glad a woman is president - anywhere, that’ll make me happy. But Mexico is unfortunately so full of corruption at every single level, that Claudia is simply yet another puppet in the long line of puppets.\\n\\nEdit: everyone saying “it’s the same in the US” really doesn’t know the degree of corruption in Mexico.  It’s bad in the States, but it’s magnitudes worse in Mexico.', 'created_utc': 1717420293.0, 'score': 7679, 'replies': [{'id': 'l6wne4t', 'author': 'oracleofnonsense', 'body': 'It’s puppets all the way down.', 'created_utc': 1717420599.0, 'score': 1215, 'replies': []}, {'id': 'l6wndwn', 'author': 'simbaismylittlebuddy', 'body': 'At least the cartels promote diversity and inclusion in their puppet factory.', 'created_utc': 1717420596.0, 'score': 2275, 'replies': []}, {'id': 'l6xima9', 'author': 'WesternSpectre', 'body': 'It really makes us Americans sound wildly ignorant to compare the two. There is a massive gulf between corporations trying to buy votes so they can get away with paying fewer taxes and the fucking Cartel.', 'created_utc': 1717431844.0, 'score': 68, 'replies': []}]}]}, {'id': 'l6wl5jc', 'author': 'PckMan', 'body': \"With the absolute massacre that has been going on for mayoral elections it's hard to see these news and not assume that any candidate who wins at any level isn't in cahoots with the cartels in some way, since they've made it clear they'll get rid of any candidate they don't agree with.\", 'created_utc': 1717419649.0, 'score': 8565, 'replies': [{'id': 'l6wlpy1', 'author': 'Throwaway6393fbrb', 'body': 'Yeah realistically they have to deal with the reality there which is that the cartel is an extremely powerful and violent shadow state.  Any candidate who wins without being killed has presumably made their peace with the cartels one way or another', 'created_utc': 1717419893.0, 'score': 3207, 'replies': [{'id': 'l6wphvt', 'author': 'IWouldButImLazy', 'body': \"Fr like I dislike that she probably won't do anything to solve the cartel problem, and they'll likely get even more entrenched and powerful, but I can't fault someone for not wanting to get murdered lol\", 'created_utc': 1717421459.0, 'score': 1308, 'replies': []}]}, {'id': 'l6wmaok', 'author': 'Morningfluid', 'body': \"Everyone here is all excited and full of optimism, however I'm not exactly buying it. The deal between them was already made.\\xa0\", 'created_utc': 1717420139.0, 'score': 237, 'replies': [{'id': 'l6wqii3', 'author': 'Andrew5329', 'body': 'Shes the handpicked successor of AMLO, his signature policy was to give up on combatting the Cartels.', 'created_utc': 1717421868.0, 'score': 179, 'replies': []}]}, {'id': 'l6wm5br', 'author': 'sirhellaz', 'body': 'Not in cahoots. They work for the cartel and that is pretty clear cut and communicated by the cartel to the candidates lol', 'created_utc': 1717420075.0, 'score': 116, 'replies': [{'id': 'l6wp348', 'author': 'delosijack', 'body': 'There is not one Cartel, there’s many', 'created_utc': 1717421293.0, 'score': 78, 'replies': []}]}]}, {'id': 'l6wpfro', 'author': 'john_t_fisherman', 'body': 'Is that a jewish mexican name?', 'created_utc': 1717421435.0, 'score': 642, 'replies': [{'id': 'l6wz1ue', 'author': 'Usual-Violinist-5477', 'body': \"Yes, she's descendent of ashkenazi and sephardic jews.\", 'created_utc': 1717425091.0, 'score': 421, 'replies': []}, {'id': 'l6ycegd', 'author': 'Fragrant_Spirit3776', 'body': 'I knew people were going to be surprised about the last name lol. Youll also be probably surprised to know that Mexico has a lot of germanic history in there too with german last names not being uncommon.', 'created_utc': 1717441780.0, 'score': 97, 'replies': [{'id': 'l6yx2le', 'author': 'I_Submit_Tits', 'body': 'For real, Banda music is basically oompa music about country living sung in Spanish.', 'created_utc': 1717448659.0, 'score': 37, 'replies': []}]}, {'id': 'l6yycda', 'author': 'thenutstrash', 'body': 'The chosen juans.', 'created_utc': 1717449101.0, 'score': 24, 'replies': [{'id': 'l6z0rgj', 'author': 'ZaysapRockie', 'body': 'I about spit out my drink! Kudos sir', 'created_utc': 1717449948.0, 'score': 3, 'replies': []}]}]}, {'id': 'l6wl3ps', 'author': 'Spartan2470', 'body': \"[Here](https://i.imgur.com/y40TPuM.jpeg) is the uncropped version of this image. [Here](https://www.gettyimages.com/detail/news-photo/march-1-mexico-city-mexico-candidate-for-mexicos-presidency-news-photo/2050446959) is the source. Per there:\\n\\n>  March 1, 2024, Mexico City, Mexico: Candidate for Mexico's Presidency for the 'Let's Keep Making History' coalition, Claudia Sheinbaum Pardo speaks during a rally at the start of her campaign at Zocalo. (Photo by Luis Barron / Eyepix Group) (Photo credit should read Luis Barron / Eyepix Group/Future Publishing via Getty Images)\\n\\n**Edit:** Thanks for the correction (and good eye) /u/LemurianLemurLad.  [Here](https://i.imgur.com/iY5TJ4G.jpeg) is a less cropped version of OP's image. [Here](https://verifica.efe.com/imagenes-zocalo-basura-no-arranque-campana-claudia-sheinbaum/) is the source.  Per there:\\n\\n> The candidate for the presidency of Mexico for the Let's Keep Making History coalition, Claudia Sheinbaum, delivers a speech at an event to launch her campaign in the Zócalo of Mexico City (Mexico). EFE/Isaac Esquivel\\n\\n> David Alvarez \\n\\n> March 5, 2024\\n\\nI have no idea why the sources provide different dates.\", 'created_utc': 1717419627.0, 'score': 517, 'replies': [{'id': 'l6x65py', 'author': 'LemurianLemurLad', 'body': \"OP's image is very similar, but not the same image.  Easy to see it's not the same photo if you look at the position of the confetti near her hands.  Probably from the same source though.\", 'created_utc': 1717427588.0, 'score': 56, 'replies': [{'id': 'l6xf9mp', 'author': 'change-password', 'body': 'Is my less cropped version [here](https://eoimages.gsfc.nasa.gov/images/imagerecords/146000/146654/iss062e112947_lrg.jpg) better?.', 'created_utc': 1717430697.0, 'score': 34, 'replies': []}]}]}, {'id': 'l6wl5oz', 'author': 'unknown_human', 'body': 'This woman is 61 years old.', 'created_utc': 1717419651.0, 'score': 553, 'replies': [{'id': 'l6wloie', 'author': 'Ho3n3r', 'body': 'A young pup when it comes to president ages!', 'created_utc': 1717419876.0, 'score': 331, 'replies': [{'id': 'l6xycd1', 'author': 'TheKinkslayer', 'body': \"That's pretty much the Latin American standard for female presidents:  \\n  \\n~60 year old elected because of the personality cult build around her male predecessor. Just as Dilma Rousseff or Christina Fernandez.  \\n   \\nMachismo is as strong as ever. Maybe even stronger as Rousseff didn't pledge total submission to her predecessor, while Sheinbaum's entire platform is pretty much submission to the man who was president before her: [Out of her 100 proposals (Spanish PDF)](https://claudiasheinbaumpardo.mx/wp-content/uploads/2024/03/CSP100.pdf), 36 are explicitly submission to him, and the rest are just a continuation of his bold faced lies, such as:\\n  \\n> 7: In foreign policy we will continue the principles of self-determination of the people, non interventionism and fraternity with the people of the world. | Non interventionism? sure, it's not as if they have been involved in exactly that in Peru, Ecuador, Argentina and Bolivia, and some of those countries have even broke diplomatic relationships with MX because of that.\", 'created_utc': 1717437119.0, 'score': 2, 'replies': []}]}, {'id': 'l6wq5dr', 'author': 'Gavinus1000', 'body': 'Damn. She looks good for 60 ngl.', 'created_utc': 1717421722.0, 'score': 265, 'replies': [{'id': 'l6xlzdy', 'author': '00Laser', 'body': \"I think that's just the photo. She looks like a regular 60 year old if you ask me: \\n\\nhttps://commons.wikimedia.org/wiki/File:Sheinbaum_Abril_2024.jpg\", 'created_utc': 1717432976.0, 'score': 25, 'replies': []}, {'id': 'l6wzbrx', 'author': 'SocialIntelligence', 'body': '> Damn. She looks good for 60 ngl.\\n\\nAgreed', 'created_utc': 1717425191.0, 'score': 12, 'replies': []}]}, {'id': 'l6wss0i', 'author': 'NotEvenkingJWei', 'body': \"She's like a baby in American standard, we only elect people over the age of 70😤\", 'created_utc': 1717422756.0, 'score': 88, 'replies': []}]}, {'id': 'l6wnbft', 'author': 'Legote', 'body': 'I’m just going to assume that if they’re not assassinated, they’re under the cartels pocket.', 'created_utc': 1717420568.0, 'score': 3394, 'replies': [{'id': 'l6wq78b', 'author': 'DudeKosh', 'body': 'They are. My brother lives in Mexico and they are not happy with this result.\\n\\nShe’s the previous president (AMLO) puppet and their party is corrupted as balls.', 'created_utc': 1717421742.0, 'score': 1509, 'replies': [{'id': 'l6wr8mx', 'author': 'jpmx123', 'body': '40% of voters are not happy with the results, 60% are happy with the results\\n\\nEDIT: I live in Mexico', 'created_utc': 1717422157.0, 'score': 587, 'replies': []}, {'id': 'l6x3ioe', 'author': 'Broad_Two_744', 'body': 'Bru she was elected with like over 50 percent of the vote in a election with three people.', 'created_utc': 1717426668.0, 'score': 68, 'replies': []}, {'id': 'l6x4dxh', 'author': 'ehladik', 'body': 'People filled the Zocalo and are partying in the streets, AMLO has an approving rate nearing the 80% and you say people are not happy?\\n\\nMost of those unhappy ones are the rich ones that tend to be extremely classist, and racist.', 'created_utc': 1717426971.0, 'score': 13, 'replies': []}]}, {'id': 'l6wvoiy', 'author': 'Axin_Saxon', 'body': 'Either directly under the cartels pocket or they have something of an unspoken “gentleman’s agreement” to not do anything which would undercut cartel business.\\n\\nIn truth, the cartels probably want someone who will improve conditions for average people so long as it doesn’t interfere with cartel revenue. Same way Capone operated soup kitchens and other charitable ventures. Bread and circus kind of thing.', 'created_utc': 1717423863.0, 'score': 9, 'replies': []}]}, {'id': 'l6wrw3j', 'author': 'Echo_Origami', 'body': \"Yeah, if I had a choice between being a police officer in  Mexico versus being a politician in Mexico, I'd go with being an astronaunt.\", 'created_utc': 1717422414.0, 'score': 92, 'replies': []}, {'id': 'l6wl59e', 'author': 'amVici0us', 'body': 'Hello, Mexican here.\\n\\nThis is nothing to celebrate. She belongs to the current ruling party which best feature is the corruption and links with the narco. Not to mention all the deaths related to her neglected government in Mexico city.\\n\\nMexico is looking more and more like Venezuela and this might be as well the last push it needs to become like it....', 'created_utc': 1717419646.0, 'score': 2921, 'replies': [{'id': 'l6wmaxi', 'author': 'ProjectShamrock', 'body': 'Something you left out is that AMLO (her predecessor and mentor) worked with the government to replace the federal police with a \"national guard\" police force that was supposed to be adjacent to the military with the initial plans for it to be under civilian control.  AMLO then sneakily put them under control of the military, and has been sending them a lot of work that should not be done by the military such as construction and such.  There are some high level officers becoming wealthy and powerful as a result, and are not under any sort of civilian control or bound by standards.  That\\'s one reason why a lot of critics are claiming that the Mayan train is dangerous for example.  Overall, this has resulted in what appears to be an increase in corruption and the national guard has been less effective against cartels and murders than the previous federal police were.', 'created_utc': 1717420142.0, 'score': 481, 'replies': [{'id': 'l6wzt1x', 'author': 'rotpeak', 'body': \"And since the government main projects are built by the military, they can't be audited due to 'national security' reasons. So one can't just imagine how much money they are pocketing.\", 'created_utc': 1717425365.0, 'score': 167, 'replies': []}, {'id': 'l6wz1fy', 'author': 'occasional_cynic', 'body': 'This is a country where teachers sold their jobs to others once they retire.  Practice was not outlawed until 2010.  Cultural corruption is very difficult to root out.', 'created_utc': 1717425087.0, 'score': 61, 'replies': []}, {'id': 'l6x8j5l', 'author': 'frikandeloorlog', 'body': \"Yes, it's corrupt as hell, but don't think even once that the other party would not do the same. People have short memories.  PAN/PRI are just as corrupt.\\n\\nVoting in Mexico is like having to pick the thief who will rob your house.  They all have different styles, but they ultimately steal from you.\", 'created_utc': 1717428408.0, 'score': 5, 'replies': []}]}, {'id': 'l6wluzo', 'author': 'KosherTriangle', 'body': 'Apparently she’s Obradors (the previous president) puppet and that means no cracking down on crime, letting cartel members continue to run the country etc.', 'created_utc': 1717419953.0, 'score': 295, 'replies': [{'id': 'l6wos97', 'author': 'AlexDKZ', 'body': '>\\xa0no cracking down on crime, letting cartel members continue to run the country\\n\\nIsn\\'t that also AMLO\\'s policy? I mean, he is the \"abrazos no balazos\" guy', 'created_utc': 1717421170.0, 'score': 97, 'replies': []}, {'id': 'l6wm5nb', 'author': 'amVici0us', 'body': 'Exactly!', 'created_utc': 1717420079.0, 'score': 16, 'replies': []}]}, {'id': 'l6ww68i', 'author': 'Mofo_mango', 'body': 'English speaking Mexicans tend to be the most reactionary in my experience. When I go to Jalisco, everyone celebrates. When I go to QRO, I see a lot of PANistas who want to turn Mexico back into the US’s playground. I’m taking this with a grain of salt.', 'created_utc': 1717424044.0, 'score': 165, 'replies': [{'id': 'l6xkoud', 'author': 'NotReallyASnake', 'body': 'Mexicans that post on reddit are usually from wealthier backgrounds and are far more likely to support right wing candidates. Most mexicans have no fucking clue what reddit is', 'created_utc': 1717432544.0, 'score': 63, 'replies': []}, {'id': 'l6wzfx5', 'author': 'Electrical-Bad7796', 'body': \"True of all Latin Americans in my experience tbh. The thing is there's lots of valid criticisms to be made about morena and sheinbaum but it's crazy the number of people in this thread talking as if morena brought corruption to mexico and pri/pan are parties of change.\", 'created_utc': 1717425233.0, 'score': 93, 'replies': []}, {'id': 'l6xovez', 'author': 'Tauromach', 'body': \"That's because they're the ones with money.  Poor people can't afford to learn English.  There are exceptions, but most Latin Americans who speak English fluently are in the upper classes.\\n\\nWealthy people hate leftist candidates.\", 'created_utc': 1717433948.0, 'score': 44, 'replies': []}]}]}, {'id': 'l6wr31c', 'author': 'chak100', 'body': 'Just check how she supported the destruction of a mangrove in order to build a refinery. The woman has been disastrous as head of government for the city.', 'created_utc': 1717422095.0, 'score': 280, 'replies': [{'id': 'l6x7buu', 'author': 'RetardedRedditRetort', 'body': \"Doesn't she have a PHD in environmental engineering or some shit? Now that's comedy gold right there!\", 'created_utc': 1717427996.0, 'score': 83, 'replies': [{'id': 'l6xyz2d', 'author': 'TheKinkslayer', 'body': 'She was a political appointee when the IPCC did the report for which it shared the 2007 Nobel peace prize, that\\'s why her name appears on that. \\n\\nBut, now that she\\'s going to be in charge of PEMEX, **the 9th most polluting company in the history of mankind**, her only platform is to keep pumping government money into it [(PDF in Spanish)](https://claudiasheinbaumpardo.mx/wp-content/uploads/2024/03/CSP100.pdf)\\n\\n6 years from now, this \"enviromental scientist\" contribution to addressing global warming is going to be indistinguishable of that of a Texas oil-man.', 'created_utc': 1717437326.0, 'score': 18, 'replies': []}, {'id': 'l6xd36q', 'author': 'KrayziePidgeon', 'body': '>PHD in environmental engineering \\n\\nHer PhD thesis was literally on wooden stoves, but the average moron won\\'t look into that, just looks at the \"PHD in environmental engineering\" headline.\\n\\nThere is A LOT of sham PhD programs out there.', 'created_utc': 1717429962.0, 'score': 30, 'replies': []}, {'id': 'l6y991i', 'author': 'euclideanvector', 'body': \"She's a professor at UNAM, the most important university in México and into the top of Latinamerica since 1987... fast-forward to 2021 she has had 16 work leaves, half of the time still getting her paycheck. Totalling 15 years without working for the university but still having a contract.\\n\\nhttps://etcetera.com.mx/nacional/sheinbaum-aviadora-unam-falto-a-trabajar-jugosa-pension/\", 'created_utc': 1717440739.0, 'score': 5, 'replies': []}]}]}]}\n"
     ]
    }
   ],
   "source": [
    "### BSON to dict ###\n",
    "\n",
    "import bson\n",
    "\n",
    "def bson_to_dict(bson_file_path):\n",
    "    \"\"\"Read a BSON file and convert it to a Python dictionary.\"\"\"\n",
    "    with open(bson_file_path, 'rb') as file:\n",
    "        bson_data = file.read()\n",
    "        data_dict = bson.BSON.decode(bson_data)\n",
    "        return data_dict\n",
    "        \n",
    "bson_file_path = 'all/post1.bson'\n",
    "post_data = bson_to_dict(bson_file_path)\n",
    "print(post_data)"
   ]
  }
 ],
 "metadata": {
  "kernelspec": {
   "display_name": "Python 3",
   "language": "python",
   "name": "python3"
  },
  "language_info": {
   "codemirror_mode": {
    "name": "ipython",
    "version": 3
   },
   "file_extension": ".py",
   "mimetype": "text/x-python",
   "name": "python",
   "nbconvert_exporter": "python",
   "pygments_lexer": "ipython3",
   "version": "3.12.2"
  }
 },
 "nbformat": 4,
 "nbformat_minor": 2
}
