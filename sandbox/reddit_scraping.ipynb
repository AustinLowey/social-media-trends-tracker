{
 "cells": [
  {
   "cell_type": "code",
   "execution_count": 1,
   "metadata": {},
   "outputs": [],
   "source": [
    "import os\n",
    "import praw\n",
    "\n",
    "# Setup PRAW credentials\n",
    "reddit = praw.Reddit(\n",
    "    client_id=os.getenv(\"PRAW_CLIENT_ID\"),\n",
    "    client_secret=os.getenv(\"PRAW_CLIENT_SECRET\"),\n",
    "    user_agent=os.getenv(\"PRAW_USER_AGENT\"),\n",
    ")"
   ]
  },
  {
   "cell_type": "code",
   "execution_count": 5,
   "metadata": {},
   "outputs": [
    {
     "name": "stdout",
     "output_type": "stream",
     "text": [
      "['What’s the reason they don’t go to different locations any more? I assume something to do with cost? It’s a shame, I feel like the different locations make for a better variety of challenges and “survival” experiences', 'I’ve watched all of the new age survivor and a handful of classic. What is Ponderosa/Pondy? Is that where tribal council lives while waiting for the season to conclude? It’s mentioned on this sub a lot and I’ve honestly never noticed it in the show. Thanks in advance!', 'I’ve searched but can’t find anything - is there a version of WSSYW for Survivor Australia? If not, what are good seasons to start with?', 'they have an agreement with the Fijian government that lasts until season 50.', 'Ponderosa is the residence where the jury members get to live after they are voted out while waiting for the Final Tribal. For a long time, the official Survivor YouTube channel would release a series of videos called \"Life at Ponderosa\" where we would get to see each juror arrive at the residence after their elimination and interact with the others, but eventually they stopped doing it after season 41.', \"A resort area players go after they're voted out and where the jury hangs out between Tribals and discusses the game. \\n\\nPre jury is there first, and before Covid they used to leave for a free trip somewhere with production staff then come back at the end to fly home as one cast. Since Covid they just send them home. It's why pre-jury isn't at the New Eras Aftershows. \\n\\nWe used to see new jurors arrive, weight themselves, initial discussions on the people left etc. \\n\\nAfter there was no Ponderosa in 42 it changed. It's now just selfie style videos a minute or two long about them talking about their experience individually.\\n\\n43 called it After the Snuff and had it for most of the cast on TikTok I believe. \\n\\nNothing for 44.\\n\\n45 had it for Kaleb to Drew on the show's Instagram.\\n\\n46 just started releasing them just before the TV finale. Soda, Tevin, Hunter and Tiffany are on the show's Instagram. We'll see if there's anymore coming up.\", 'Oh right! How come? As in what do the show get out of that?', 'Appreciated, thank you!', 'Thanks!', \"they got the locations they repeat for until they reach season 50. this deal was made after Caleb almost died in Kaoh Rong, since Fiji doesn't reach the same heats that other places do due to being far south.\"]\n"
     ]
    }
   ],
   "source": [
    "submissions = [submission for submission in reddit.subreddit(\"survivor\").hot(limit=3)]\n",
    "submission0 = submissions[0]\n",
    "comments = [comment.body for comment in submission0.comments.list()]\n",
    "print(comments)"
   ]
  },
  {
   "cell_type": "code",
   "execution_count": 5,
   "metadata": {},
   "outputs": [
    {
     "data": {
      "text/plain": [
       "{'remaining': 598.0, 'reset_timestamp': 1717258202.3509674, 'used': 2}"
      ]
     },
     "execution_count": 5,
     "metadata": {},
     "output_type": "execute_result"
    }
   ],
   "source": [
    "reddit.auth.limits"
   ]
  },
  {
   "cell_type": "code",
   "execution_count": 12,
   "metadata": {},
   "outputs": [
    {
     "name": "stdout",
     "output_type": "stream",
     "text": [
      "1097 upvotes: Q is something else 😭\n",
      "https://x.com/qmb_4/status/1796944648029499442?s=46&t=xwFj5rm3J9-rRKC5wtm3lg\n",
      "    660 upvotes: Whackadoodles at war\n",
      "        214 upvotes: Season 50 theme!? Just a season of chaotic players\n",
      "            112 upvotes: Half of the cast is just people from Gabon.\n",
      "        6 upvotes: This is the funniest comment I’ve ever seen on this sub. Cheers!\n",
      "    746 upvotes: One week without 46 and I’m in withdrawals\n",
      "        179 upvotes: I visited Bhanus insta, clicked play on his dance videos and now I'm awkwardly high\n",
      "            28 upvotes: Yeah that's... Something! Idk why I am always entertained by that dancing lol 🧘‍♂️\n",
      "        84 upvotes: I say they bring them all back and we have Season 46 Part 2.\n",
      "            26 upvotes: Don’t threaten me with a good time!\n",
      "        -100 upvotes: Probably one the worst seasons ever\n",
      "            55 upvotes: Saying 46 was bad? BIG MISTAKE\n",
      "            25 upvotes: Just log off lmao\n",
      "            1 upvotes: [removed]\n",
      "    661 upvotes: After Q posted this Venus posted an insta story of Obsessed by Mariah Carey\n",
      "        399 upvotes: They love this drama shit lmao\n",
      "            309 upvotes: I thought they might dislike each other but imo they’re more iconic frenemies\n",
      "        68 upvotes: I want them to have a Frienemies type of podcast. They're are gold\n",
      "            64 upvotes: They actually have great complimenting personalities for a podcast. They would have entertaining tak\n",
      "        13 upvotes: Are you serious?! Lmao! I love it. \n",
      "    203 upvotes: They are both so chaotic\n",
      "        27 upvotes: And I love it\n",
      "    97 upvotes: I feel like this cast is campaigning HARD for S50!\n",
      "        30 upvotes: As they should!! Cuz i need at least 3 returnees from this season\n",
      "            11 upvotes: Who are the most likely?Q, Venise, Hunter?I feel like Charlie's archetype is pretty stacked with\n",
      "        -1 upvotes: They’re making a mess of this. I’d be shocked if any return\n",
      "    314 upvotes: Q is an incredible troll\n",
      "        86 upvotes: Calling Q a troll? BIG MISTAKE\n",
      "            26 upvotes: They can cancel Christmas\n",
      "        30 upvotes: why, is that not venise? just a doppleganger? whoever it is she looks absolutely killer in this phot\n",
      "            21 upvotes: that’s definitely her but i assume it’s an old pic, doesn’t really tell us if they’re friends rn or \n",
      "    105 upvotes: Destined to be frenemies until the end of time. The tension between them is what holds our universe \n",
      "        44 upvotes: Venus is frenemies with half the cast it seems lol\n",
      "    78 upvotes: They were obviously on good terms during the finale. It seems crazy to me that you guys are so bla\n",
      "        64 upvotes: I believe two things: 1) there is/was drama between a lot of this casts but they are all adults who \n",
      "        3 upvotes: yes she could’ve put it in the past but she was tweeting about it just a few days ago. so clearly th\n",
      "            6 upvotes: See my second paragraph: “But then sometimes if someone does something terrible to me again, I’ll \n",
      "        6 upvotes: I am curious to know something vile someone did to you where you wanted to be on good terms.\n",
      "            16 upvotes: Well, the most obvious one is my dad. He’s done some vile things and I still choose to put the past \n",
      "            7 upvotes: Depends on your definition of vile, I guess. That could either mean something morally heinous or jus\n",
      "    12 upvotes: Q is what I would consider to be the definition of a hussler.  He's the perfect real estate agent. A\n",
      "        2 upvotes: Hustler*\n",
      "    204 upvotes: This makes Venus’ words/actions really odd. She claims Q did something truly “vile” to her, then imm\n",
      "        34 upvotes: Maybe they were bored and decided to spice up the post-season by \"feuding\"I don't buy into those k\n",
      "            8 upvotes: I said that the beef could be rehearsed and people down voted me💔\n",
      "        115 upvotes: This photo can’t be recent i refuse to believe it lol\n",
      "            151 upvotes: She was joking around with him on IG live just a few days before the twitter blow up happened. They \n",
      "            41 upvotes: Judging from Tiff’s last IG post, they just got their pics back from Ponderosa\n",
      "            41 upvotes: Even if the photo wasn’t recent, you’d assume the vile actions occurred either on the island or at P\n",
      "        9 upvotes: I don’t believe anything most of this cast says lol.\n",
      "        7 upvotes: Prob engagement bait\n",
      "        31 upvotes: Yeah something definitely been off. If shit really was as bad as she says it was at Ponderosa you’d \n",
      "        21 upvotes: I mean theoretically this picture could have happened before whatever she says happened.\n",
      "            6 upvotes: Though from what it sounds like it’s most likely the “actions” happened either on the island or at P\n",
      "        3 upvotes: By “vile” she meant how he blew up the bathroom after eating ponderosa out of house and home\n",
      "        1 upvotes: She just seems like the type to not hold a grudge in general. Became friends with Hunter post-game d\n",
      "        1 upvotes: If I were Venus I'd be very aware that by publicly revealing some sort of dirt about him I was proba\n",
      "            1 upvotes: But then if she didn’t want people to go after Q she wouldn’t use the word vile in all caps, she may\n",
      "        -1 upvotes: Just remember she's a 20-year-old kid. And a drama queen.\n",
      "            2 upvotes: Venus is 24.\n",
      "        0 upvotes: butt sex. it’s likely something up the butt. it’s vile and hard to reveal\n",
      "    110 upvotes: Q is god and tv gold and I want him to return at least one more time if not more\n",
      "        26 upvotes: I fucking love Q and he made for great tv. I would love to see him return as a player/character.Bu\n",
      "            36 upvotes: He said on RHAP he would love to return\n",
      "            8 upvotes: He is , so he obviously wasn't in it for the money primarily, but I would so love to see him again. \n",
      "        4 upvotes: There’s no way that Jeff doesn’t ask him back 🤞🏼\n",
      "        3 upvotes: Wish he had played his idol..It would have made the final 5 vote so much Harder lol.\n",
      "    7 upvotes: What if a cast was close and decided to all troll the internet after a show ended? Could that happen\n",
      "    6 upvotes: No hover hand!\n",
      "    6 upvotes: Hey, it’s a picture of two contestants from the most recent season of Survivor.\n",
      "    4 upvotes: i’m really not buying this one, we have no idea when this pic is from and venus isn’t on social medi\n",
      "    4 upvotes: Someone fill me in with what’s going on pls.\n",
      "        5 upvotes: Basically these two were beefing a few days ago, with Venus threatening to expose something that Q d\n",
      "            2 upvotes: Thanks. What is the best theory that she was going to expose?\n",
      "    5 upvotes: They are both so hot\n",
      "        3 upvotes: *bisexual panic*\n",
      "    4 upvotes: manifesting Queenus as their ship name\n",
      "    8 upvotes: Bro this postseason is so crazy I clicked on this link expecting the announcement that Q was giving \n",
      "        1 upvotes: If anyone is the millionaire who doesn’t need the money, it’s Q\n",
      "    6 upvotes: survivor 46 is serving us mess typically reserved for an average big brother season, this is WILD\n",
      "        -6 upvotes: It’s literally all fake and ya’ll eating it up. Want survivor to turn into the bachelor where 90% of\n",
      "            5 upvotes: *Bhanu enters the chat*\n",
      "    3 upvotes: CHRISTMAS IS NOT CANCELLED‼️‼️\n",
      "    3 upvotes: Are they colluding for S50 already? I bet they are. All this online drama is probably a smokescreen \n",
      "    3 upvotes: Venus gonna model the latest line of Q skirts confirmed.\n",
      "    3 upvotes: S46 cast trying to secure that S50 callback\n",
      "    5 upvotes: They homies irl\n",
      "    4 upvotes: Venus is so fucking gorgeous.\n",
      "    5 upvotes: It’s starting to feel like a number of these cast members would have been better off on Big Brother \n",
      "        10 upvotes: They are setting up their Challenge careers\n",
      "    2 upvotes: I love how messy this cast was/is\n",
      "    5 upvotes: Let’s get Q on Big Brother\n",
      "        5 upvotes: Get Q on The Challenge!\n",
      "        4 upvotes: Oh man, the feeds would be GOLD!\n",
      "    2 upvotes: I really love Q. He had me with my mouth open saying WTF a few times but I forgave him. He is a real\n",
      "    4 upvotes: I remain jealous of Venus's eyeliner game\n",
      "    2 upvotes: Honestly…I ship it\n",
      "        3 upvotes: Alright he ain’t Wendell\n",
      "    1 upvotes: They want to be Tori and Rocksroy so bad\n",
      "    1 upvotes: Drama queens.\n",
      "    1 upvotes: Love Q…. I Want a Q skirt … lol\n",
      "    1 upvotes: They both look great\n",
      "    1 upvotes: Twitter beef with Venus wasn't good for his cameo business.\n",
      "    1 upvotes: My god he is so damn handsome\n",
      "    1 upvotes: > In nuclear physics and particle physics, the strong interaction, also called the strong force or s\n",
      "    1 upvotes: Q is the gift that keeps on giving. Thank you Jeff probst.\n",
      "    1 upvotes: A lot of these are “stunts” and are written into the show to keep the drama going.\n",
      "    0 upvotes: Its so crazy how all of you follow these people so closely after the season is over.  I just recentl\n",
      "        3 upvotes: Sounds like reality TV isn't for you or whatever shows subreddit? That's how these people stay famou\n",
      "            2 upvotes: No, reality TV is for me I just don't obsess like everyone here.  So I refute that.  > ..more dram\n",
      "    1 upvotes: Lmao when they’re season 50 final 2!\n",
      "    1 upvotes: this cast is wild\n",
      "    0 upvotes: King and Queen of 46\n",
      "        1 upvotes: 💯\n",
      "    0 upvotes: She gotta go!\n",
      "    0 upvotes: I want Venus bad\n",
      "    -2 upvotes: ben is playing a show near me and i’m debating going just to talk about what he thinks of all this l\n",
      "        10 upvotes: …i wouldn’t do that, i really doubt he wants to talk about the drama in person. he’s not even involv\n",
      "    -1 upvotes: [deleted]\n",
      "        4 upvotes: these are from a year ago and Ponderosa\n",
      "    -10 upvotes: Maybe he lifted up his Q skirt and revealed something shocking (vile?)?\n"
     ]
    }
   ],
   "source": [
    "import os\n",
    "import praw\n",
    "\n",
    "# Setup PRAW credentials\n",
    "reddit = praw.Reddit(\n",
    "    client_id=os.getenv(\"PRAW_CLIENT_ID\"),\n",
    "    client_secret=os.getenv(\"PRAW_CLIENT_SECRET\"),\n",
    "    user_agent=os.getenv(\"PRAW_USER_AGENT\"),\n",
    ")\n",
    "\n",
    "def visualize_post(comments, depth=1, max_depth=3):\n",
    "    if depth > max_depth:\n",
    "        return\n",
    "    indent = '    ' * depth  # Increase indentation for each depth level\n",
    "    for comment in comments:\n",
    "        if isinstance(comment, praw.models.MoreComments):\n",
    "            continue\n",
    "        print(f\"{indent}{comment.score} upvotes: {comment.body[:100].replace(\"\\n\", \"\")}\")  # Truncate long comments\n",
    "        visualize_post(comment.replies, depth + 1, max_depth)\n",
    "\n",
    "# Get the top post from a subreddit\n",
    "subreddit_name = 'survivor'\n",
    "subreddit = reddit.subreddit(subreddit_name)\n",
    "top_post = next(subreddit.top(time_filter='day', limit=1))\n",
    "\n",
    "top_post.comments.replace_more(limit=0)  # Load all comments\n",
    "print(f\"{top_post.score} upvotes: {top_post.title}\\n{top_post.selftext}\")\n",
    "visualize_post(top_post.comments)\n"
   ]
  }
 ],
 "metadata": {
  "kernelspec": {
   "display_name": "Python 3",
   "language": "python",
   "name": "python3"
  },
  "language_info": {
   "codemirror_mode": {
    "name": "ipython",
    "version": 3
   },
   "file_extension": ".py",
   "mimetype": "text/x-python",
   "name": "python",
   "nbconvert_exporter": "python",
   "pygments_lexer": "ipython3",
   "version": "3.12.2"
  }
 },
 "nbformat": 4,
 "nbformat_minor": 2
}
